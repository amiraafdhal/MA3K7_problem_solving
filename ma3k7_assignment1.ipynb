{
 "cells": [
  {
   "cell_type": "markdown",
   "id": "4f51b57d-84e7-4b48-99b8-54c62917a494",
   "metadata": {},
   "source": [
    "# Assignment 1 Rubric Code\n",
    "### Amira Afdhal (2012593)"
   ]
  },
  {
   "cell_type": "code",
   "execution_count": 1,
   "id": "4da1f039-e3cc-4a66-82f7-81b0158348f6",
   "metadata": {},
   "outputs": [],
   "source": [
    "# import libraries\n",
    "import numpy as np"
   ]
  },
  {
   "cell_type": "markdown",
   "id": "6221d005-bd64-43f5-8caf-bf445968c71e",
   "metadata": {},
   "source": [
    "We want to find what happens to the bracelet number sequence. Starting with the given example, which we named $b(1, 5)$"
   ]
  },
  {
   "cell_type": "code",
   "execution_count": 21,
   "id": "00c30874-9c78-414b-bff8-9ffba0522cfd",
   "metadata": {
    "tags": []
   },
   "outputs": [],
   "source": [
    "# bracelet sequence function\n",
    "\n",
    "def bracelet(a, b, n):\n",
    "    \"\"\"\n",
    "    Returns list of the first n elements of the bracelet sequence b(a,b)\n",
    "    \n",
    "    Parameters:\n",
    "    a (int), b (int): two integers to make the bracelet sequence\n",
    "    n (int): number of elements of the bracelet sequence\n",
    "    \n",
    "    Returns:\n",
    "    list : list of elements of the bracelet sequence\n",
    "    \"\"\"\n",
    "    n = n-2\n",
    "    bracelet = [a, b]\n",
    "    h = 0\n",
    "    \n",
    "    for k in range(n):\n",
    "        h = (bracelet[k] + bracelet[k+1]) % 10\n",
    "        bracelet.append(h)\n",
    "        \n",
    "    return bracelet"
   ]
  },
  {
   "cell_type": "code",
   "execution_count": 24,
   "id": "a56715e0-e51c-49f1-8f28-fa3ce639aa19",
   "metadata": {
    "tags": []
   },
   "outputs": [
    {
     "data": {
      "text/plain": [
       "[1, 5, 6, 1, 7, 8, 5]"
      ]
     },
     "execution_count": 24,
     "metadata": {},
     "output_type": "execute_result"
    }
   ],
   "source": [
    "# Try with the example of the first 7 elements of b(1, 5)\n",
    "bracelet(1, 5, 7)"
   ]
  },
  {
   "cell_type": "code",
   "execution_count": 26,
   "id": "4c5bfbc3-fc4d-41b8-a3e8-7cb728f6373e",
   "metadata": {
    "tags": []
   },
   "outputs": [
    {
     "data": {
      "text/plain": [
       "[1,\n",
       " 5,\n",
       " 6,\n",
       " 1,\n",
       " 7,\n",
       " 8,\n",
       " 5,\n",
       " 3,\n",
       " 8,\n",
       " 1,\n",
       " 9,\n",
       " 0,\n",
       " 9,\n",
       " 9,\n",
       " 8,\n",
       " 7,\n",
       " 5,\n",
       " 2,\n",
       " 7,\n",
       " 9,\n",
       " 6,\n",
       " 5,\n",
       " 1,\n",
       " 6,\n",
       " 7,\n",
       " 3,\n",
       " 0,\n",
       " 3,\n",
       " 3,\n",
       " 6]"
      ]
     },
     "execution_count": 26,
     "metadata": {},
     "output_type": "execute_result"
    }
   ],
   "source": [
    "# Try and see what happens to the sequence\n",
    "bracelet(1, 5, 30)"
   ]
  },
  {
   "cell_type": "code",
   "execution_count": 28,
   "id": "73c8c020-56e4-44ad-bf04-599d85349d10",
   "metadata": {
    "tags": []
   },
   "outputs": [
    {
     "data": {
      "text/plain": [
       "[5,\n",
       " 1,\n",
       " 6,\n",
       " 7,\n",
       " 3,\n",
       " 0,\n",
       " 3,\n",
       " 3,\n",
       " 6,\n",
       " 9,\n",
       " 5,\n",
       " 4,\n",
       " 9,\n",
       " 3,\n",
       " 2,\n",
       " 5,\n",
       " 7,\n",
       " 2,\n",
       " 9,\n",
       " 1,\n",
       " 0,\n",
       " 1,\n",
       " 1,\n",
       " 2,\n",
       " 3,\n",
       " 5,\n",
       " 8,\n",
       " 3,\n",
       " 1,\n",
       " 4,\n",
       " 5,\n",
       " 9,\n",
       " 4,\n",
       " 3,\n",
       " 7,\n",
       " 0,\n",
       " 7,\n",
       " 7,\n",
       " 4,\n",
       " 1,\n",
       " 5,\n",
       " 6,\n",
       " 1,\n",
       " 7,\n",
       " 8,\n",
       " 5,\n",
       " 3,\n",
       " 8,\n",
       " 1,\n",
       " 9]"
      ]
     },
     "execution_count": 28,
     "metadata": {},
     "output_type": "execute_result"
    }
   ],
   "source": [
    "# Try generating for b(5,1)\n",
    "bracelet(5, 1, 50)"
   ]
  },
  {
   "cell_type": "code",
   "execution_count": 63,
   "id": "62d07822-ba60-424d-a047-9f184a72cf6d",
   "metadata": {
    "tags": []
   },
   "outputs": [
    {
     "name": "stdout",
     "output_type": "stream",
     "text": [
      "[1, 5, 6, 1, 7, 8, 5, 3, 8, 1, 9, 0, 9, 9, 8, 7, 5, 2, 7, 9, 6, 5, 1, 6, 7, 3, 0, 3, 3, 6, 9, 5, 4, 9, 3, 2, 5, 7, 2, 9, 1, 0, 1, 1, 2, 3, 5, 8, 3, 1, 4, 5, 9, 4, 3, 7, 0, 7, 7, 4]\n"
     ]
    }
   ],
   "source": [
    "# complete b(1, 5) bracelet\n",
    "b1 = bracelet(1, 5, 60)\n",
    "print(b1)"
   ]
  },
  {
   "cell_type": "code",
   "execution_count": 41,
   "id": "8e3b63dc-f0c1-469a-b25e-4705de44d2c6",
   "metadata": {
    "tags": []
   },
   "outputs": [
    {
     "data": {
      "text/plain": [
       "[2, 2, 4, 6, 0, 6, 6, 2, 8, 0, 8, 8, 6, 4, 0, 4, 4, 8, 2, 0]"
      ]
     },
     "execution_count": 41,
     "metadata": {},
     "output_type": "execute_result"
    }
   ],
   "source": [
    "# generating b(2) to see a different bracelet\n",
    "bracelet(2,2, 20)"
   ]
  },
  {
   "cell_type": "code",
   "execution_count": 78,
   "id": "2b470284-4bc1-4fe6-b097-07a8ae99372a",
   "metadata": {
    "tags": []
   },
   "outputs": [],
   "source": [
    "#checking function\n",
    "\n",
    "def check(k, bracelet):\n",
    "    relations = []\n",
    "    for i in range(len(bracelet)):\n",
    "        if bracelet[i] == k:\n",
    "            relations.append(bracelet[i+1])\n",
    "    return relations\n",
    "            "
   ]
  },
  {
   "cell_type": "code",
   "execution_count": 87,
   "id": "7e1401bb-523a-47a1-9110-e320423d4e6b",
   "metadata": {
    "tags": []
   },
   "outputs": [
    {
     "data": {
      "text/plain": [
       "[0, 9, 8, 6, 5, 3, 1, 4]"
      ]
     },
     "execution_count": 87,
     "metadata": {},
     "output_type": "execute_result"
    }
   ],
   "source": [
    "check(9, b1)"
   ]
  },
  {
   "cell_type": "code",
   "execution_count": 88,
   "id": "6176839f-ec94-4441-a7f4-81f496c1f0b1",
   "metadata": {
    "tags": []
   },
   "outputs": [
    {
     "data": {
      "text/plain": [
       "[1, 4, 5, 9, 4, 3, 7, 0, 7, 7, 4, 1, 5, 6]"
      ]
     },
     "execution_count": 88,
     "metadata": {},
     "output_type": "execute_result"
    }
   ],
   "source": [
    "bracelet(1,4,14)"
   ]
  },
  {
   "cell_type": "code",
   "execution_count": null,
   "id": "e4f94eed-338a-4c7a-b0dd-465d3b06c1b3",
   "metadata": {},
   "outputs": [],
   "source": []
  }
 ],
 "metadata": {
  "kernelspec": {
   "display_name": "Python 3 (ipykernel)",
   "language": "python",
   "name": "python3"
  },
  "language_info": {
   "codemirror_mode": {
    "name": "ipython",
    "version": 3
   },
   "file_extension": ".py",
   "mimetype": "text/x-python",
   "name": "python",
   "nbconvert_exporter": "python",
   "pygments_lexer": "ipython3",
   "version": "3.11.5"
  }
 },
 "nbformat": 4,
 "nbformat_minor": 5
}
