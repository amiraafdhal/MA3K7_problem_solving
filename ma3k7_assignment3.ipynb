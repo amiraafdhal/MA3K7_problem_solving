{
 "cells": [
  {
   "cell_type": "markdown",
   "id": "028cb6a3-822e-403d-9d30-34aca3d799aa",
   "metadata": {
    "tags": []
   },
   "source": [
    "# Assignment 3 Rubric Code\n",
    "### Amira Afdhal (2012593)"
   ]
  },
  {
   "cell_type": "code",
   "execution_count": 3,
   "id": "ec1f1b48-160e-4907-bdb5-660f22f5c712",
   "metadata": {
    "tags": []
   },
   "outputs": [],
   "source": [
    "# import libraries\n",
    "import numpy as np\n",
    "import random as rand\n",
    "import matplotlib.pyplot as plt"
   ]
  },
  {
   "cell_type": "markdown",
   "id": "142984cd-69cd-4bc6-abd5-7a7edfe48dbd",
   "metadata": {},
   "source": [
    "Want to define a function that takes two random integers and subtracts the smaller one from the larger one. Since the integers will be drawn from a list of positive numbers only, this calculation can also be achieved by taking the absolute value of the subtraction without having to find the larger or smaller number."
   ]
  },
  {
   "cell_type": "code",
   "execution_count": 4,
   "id": "96f09778-1d4c-4be2-a28c-58bbff1273cb",
   "metadata": {
    "tags": []
   },
   "outputs": [],
   "source": [
    "def hat_gen(a, b):\n",
    "    \"\"\"\n",
    "    returns the result of subtracting the smaller number from the larger one.\n",
    "\n",
    "    Parameters:\n",
    "    a (int), b (int): two integers from the list\n",
    "    \n",
    "    Returns:\n",
    "    x (int) : result of calculation\n",
    "    \"\"\"\n",
    "    x = abs(a-b)\n",
    "    \n",
    "    return x\n",
    "    "
   ]
  },
  {
   "cell_type": "markdown",
   "id": "445d01be-ecd2-437e-8f23-13ee75282849",
   "metadata": {},
   "source": [
    "Now we want to define a function that does the hat process to completion, i.e. resulting in only one integer left."
   ]
  },
  {
   "cell_type": "code",
   "execution_count": 9,
   "id": "e7836fd4-dbce-4067-940b-065e4530ed43",
   "metadata": {
    "tags": []
   },
   "outputs": [],
   "source": [
    "def hat(n):\n",
    "    \"\"\"\n",
    "    returns the result of doing the hat process from beginning to end with integers 1 to n\n",
    "    \n",
    "    Parameters:\n",
    "    n (int) : the largest number in the hat\n",
    "    \n",
    "    Returns:\n",
    "    result : the last remaining number from the process executed 1 time.\n",
    "    \"\"\"\n",
    "    \n",
    "    list = [i for i in range(1,n+1)]\n",
    "    \n",
    "    count = len(list)\n",
    "    \n",
    "    while count>1:\n",
    "        a, b = rand.sample(list, 2)\n",
    "        x = hat_gen(a, b)\n",
    "        list.append(x)\n",
    "        list.remove(a)\n",
    "        list.remove(b)\n",
    "        count = count - 1\n",
    "        if count == 1:\n",
    "            break\n",
    "    \n",
    "    result = list[0]\n",
    "    return result"
   ]
  },
  {
   "cell_type": "code",
   "execution_count": 10,
   "id": "d6372009-e2bb-4c2c-ba41-59b57924d33f",
   "metadata": {
    "tags": []
   },
   "outputs": [
    {
     "data": {
      "text/plain": [
       "794"
      ]
     },
     "execution_count": 10,
     "metadata": {},
     "output_type": "execute_result"
    }
   ],
   "source": [
    "hat(2024)"
   ]
  },
  {
   "cell_type": "code",
   "execution_count": 108,
   "id": "82e24b24-40fc-4bf0-a028-fe17d7ec11a1",
   "metadata": {
    "tags": []
   },
   "outputs": [
    {
     "data": {
      "text/plain": [
       "0"
      ]
     },
     "execution_count": 108,
     "metadata": {},
     "output_type": "execute_result"
    }
   ],
   "source": [
    "hat_exe = [hat(2024) for i in range(1000)]\n",
    "\n",
    "# are there any odd numbers?\n",
    "def check_odd(list):\n",
    "    odd_count = 0\n",
    "\n",
    "    for x in list:\n",
    "        if x % 2 == 1:\n",
    "            odd_count += 1\n",
    "            \n",
    "    return odd_count\n",
    "\n",
    "check_odd(hat_exe)\n"
   ]
  },
  {
   "cell_type": "code",
   "execution_count": 103,
   "id": "bf5dd088-e95c-4bde-bf8f-8e14544bc2f9",
   "metadata": {},
   "outputs": [
    {
     "data": {
      "image/png": "[encoded data removed]",
      "text/plain": [
       "<Figure size 640x480 with 1 Axes>"
      ]
     },
     "metadata": {},
     "output_type": "display_data"
    }
   ],
   "source": [
    "# Plotting the histogram of the end numbers\n",
    "Max = max(hat_exe)+1\n",
    "bins = np.arange(0, Max)\n",
    "plt.hist(hat_exe, bins,\n",
    "density=False, color='purple')\n",
    "plt.xlabel('Value')\n",
    "plt.ylabel('Frequency')\n",
    "plt.title('Histogram of End Numbers for Hat with 2024 Numbers')\n",
    "\n",
    "plt.savefig('plot1.png')\n",
    "plt.show()"
   ]
  },
  {
   "cell_type": "code",
   "execution_count": 44,
   "id": "fcaf15b6-3756-4e4f-b709-1b8ab2fb6de5",
   "metadata": {
    "tags": []
   },
   "outputs": [],
   "source": [
    "def hat_oddcount(n):\n",
    "    \"\"\"\n",
    "    returns the proportion of odd numbers in every step of the algorithm\n",
    "    \n",
    "    Parameters:\n",
    "    n (int) : the largest number in the hat\n",
    "    \n",
    "    Returns:\n",
    "    results : list of the proportion of odd numbers in every step of the algorithm\n",
    "    \"\"\"\n",
    "    \n",
    "    list = [i for i in range(1,n+1)]\n",
    "    odd = len(list) /2\n",
    "    even  = len(list)/2\n",
    "    \n",
    "    odd_ratio = [odd]\n",
    "    \n",
    "    count = len(list)\n",
    "    \n",
    "    while count>1:\n",
    "        a, b = rand.sample(list, 2)\n",
    "        if a % 2 == 1:\n",
    "            odd = odd -1\n",
    "        else:\n",
    "            even = even -1\n",
    "        if b % 2 == 1:\n",
    "            odd = odd -1\n",
    "        else:\n",
    "            even = even -1\n",
    "            \n",
    "        x = hat_gen(a, b)\n",
    "        if x % 2 == 1:\n",
    "            odd = odd +1\n",
    "        else:\n",
    "            even = even +1\n",
    "        odd_ratio.append(odd)\n",
    "        list.append(x)\n",
    "        list.remove(a)\n",
    "        list.remove(b)\n",
    "        count = count - 1\n",
    "        if count == 1:\n",
    "            break\n",
    "    \n",
    "    result = list[0]\n",
    "    \n",
    "    return result, odd_ratio"
   ]
  },
  {
   "cell_type": "code",
   "execution_count": 95,
   "id": "8523cc81-dcef-4c67-9c90-d2fd97045f79",
   "metadata": {
    "tags": []
   },
   "outputs": [
    {
     "data": {
      "text/plain": [
       "5"
      ]
     },
     "execution_count": 95,
     "metadata": {},
     "output_type": "execute_result"
    }
   ],
   "source": [
    "hat_oddcount(6)[0]"
   ]
  },
  {
   "cell_type": "code",
   "execution_count": 98,
   "id": "9173c6b2-635f-4445-b473-0c62a075363f",
   "metadata": {
    "tags": []
   },
   "outputs": [],
   "source": [
    "# making this into a function since I will be calling it many times\n",
    "def hat_series(n, k):\n",
    "    \"\"\"\n",
    "    returns a list of end numbers after running the hat algorithm k times\n",
    "    \n",
    "    Parameters:\n",
    "    n (int) : starting number for hat\n",
    "    k (int) : number of times the hat algorithm is run\n",
    "    \n",
    "    Returns:\n",
    "    results : list of end numbers\n",
    "    \"\"\"\n",
    "    results = [hat(n) for i in range(k-1)]\n",
    "    \n",
    "    return results\n",
    "    "
   ]
  },
  {
   "cell_type": "code",
   "execution_count": 112,
   "id": "6f0d58de-c155-45ea-ae67-c832ff924277",
   "metadata": {
    "tags": []
   },
   "outputs": [
    {
     "data": {
      "image/png": "[encoded data removed]",
      "text/plain": [
       "<Figure size 640x480 with 1 Axes>"
      ]
     },
     "metadata": {},
     "output_type": "display_data"
    }
   ],
   "source": [
    "# Plotting the histogram of the end numbers for another starting number\n",
    "hat2023 = hat_series(2023, 1000)\n",
    "\n",
    "Max = max(hat2023)+1\n",
    "bins = np.arange(0, Max)\n",
    "plt.hist(hat2023, bins,\n",
    "density=False, color='purple')\n",
    "plt.xlabel('Value')\n",
    "plt.ylabel('Frequency')\n",
    "plt.title('Histogram of End Numbers for Hat with 2023 Numbers')\n",
    "\n",
    "plt.savefig('plot2.png')\n",
    "plt.show()"
   ]
  },
  {
   "cell_type": "code",
   "execution_count": 109,
   "id": "53716c39-5171-433f-b497-004e62ecfed0",
   "metadata": {
    "tags": []
   },
   "outputs": [
    {
     "data": {
      "text/plain": [
       "0"
      ]
     },
     "execution_count": 109,
     "metadata": {},
     "output_type": "execute_result"
    }
   ],
   "source": [
    "check_odd(hat2023)"
   ]
  },
  {
   "cell_type": "code",
   "execution_count": 117,
   "id": "fe0db395-353e-4eb9-a7d1-d4064030309c",
   "metadata": {
    "tags": []
   },
   "outputs": [
    {
     "data": {
      "image/png": "[encoded data removed]",
      "text/plain": [
       "<Figure size 640x480 with 1 Axes>"
      ]
     },
     "metadata": {},
     "output_type": "display_data"
    }
   ],
   "source": [
    "hat10 = hat_series(10, 1000)\n",
    "Max = max(hat10)+1\n",
    "bins = np.arange(0, Max)\n",
    "plt.hist(hat10, bins=8,\n",
    "density=False, color='purple')\n",
    "plt.xlabel('Value')\n",
    "plt.ylabel('Frequency')\n",
    "plt.title('Histogram of End Numbers for Hat with 10 Numbers')\n",
    "\n",
    "plt.savefig('plot3.png')\n",
    "plt.show()"
   ]
  },
  {
   "cell_type": "code",
   "execution_count": 118,
   "id": "a2465ff9-d63d-439d-b254-41ec27fea21b",
   "metadata": {
    "tags": []
   },
   "outputs": [
    {
     "data": {
      "text/plain": [
       "999"
      ]
     },
     "execution_count": 118,
     "metadata": {},
     "output_type": "execute_result"
    }
   ],
   "source": [
    "check_odd(hat10)"
   ]
  },
  {
   "cell_type": "code",
   "execution_count": 121,
   "id": "2a9f5498-c941-4694-acf3-b53379a9f1b3",
   "metadata": {
    "tags": []
   },
   "outputs": [
    {
     "ename": "KeyboardInterrupt",
     "evalue": "",
     "output_type": "error",
     "traceback": [
      "\u001b[0;31m---------------------------------------------------------------------------\u001b[0m",
      "\u001b[0;31mKeyboardInterrupt\u001b[0m                         Traceback (most recent call last)",
      "Cell \u001b[0;32mIn[121], line 1\u001b[0m\n\u001b[0;32m----> 1\u001b[0m hat2024 \u001b[38;5;241m=\u001b[39m hat_series(\u001b[38;5;241m2024\u001b[39m, \u001b[38;5;28mint\u001b[39m(\u001b[38;5;241m10e4\u001b[39m))\n",
      "Cell \u001b[0;32mIn[98], line 12\u001b[0m, in \u001b[0;36mhat_series\u001b[0;34m(n, k)\u001b[0m\n\u001b[1;32m      1\u001b[0m \u001b[38;5;28;01mdef\u001b[39;00m \u001b[38;5;21mhat_series\u001b[39m(n, k):\n\u001b[1;32m      2\u001b[0m \u001b[38;5;250m    \u001b[39m\u001b[38;5;124;03m\"\"\"\u001b[39;00m\n\u001b[1;32m      3\u001b[0m \u001b[38;5;124;03m    returns a list of end numbers after running the hat algorithm k times\u001b[39;00m\n\u001b[1;32m      4\u001b[0m \u001b[38;5;124;03m    \u001b[39;00m\n\u001b[0;32m   (...)\u001b[0m\n\u001b[1;32m     10\u001b[0m \u001b[38;5;124;03m    results : list of end numbers\u001b[39;00m\n\u001b[1;32m     11\u001b[0m \u001b[38;5;124;03m    \"\"\"\u001b[39;00m\n\u001b[0;32m---> 12\u001b[0m     results \u001b[38;5;241m=\u001b[39m [hat(n) \u001b[38;5;28;01mfor\u001b[39;00m i \u001b[38;5;129;01min\u001b[39;00m \u001b[38;5;28mrange\u001b[39m(k\u001b[38;5;241m-\u001b[39m\u001b[38;5;241m1\u001b[39m)]\n\u001b[1;32m     14\u001b[0m     \u001b[38;5;28;01mreturn\u001b[39;00m results\n",
      "Cell \u001b[0;32mIn[98], line 12\u001b[0m, in \u001b[0;36m<listcomp>\u001b[0;34m(.0)\u001b[0m\n\u001b[1;32m      1\u001b[0m \u001b[38;5;28;01mdef\u001b[39;00m \u001b[38;5;21mhat_series\u001b[39m(n, k):\n\u001b[1;32m      2\u001b[0m \u001b[38;5;250m    \u001b[39m\u001b[38;5;124;03m\"\"\"\u001b[39;00m\n\u001b[1;32m      3\u001b[0m \u001b[38;5;124;03m    returns a list of end numbers after running the hat algorithm k times\u001b[39;00m\n\u001b[1;32m      4\u001b[0m \u001b[38;5;124;03m    \u001b[39;00m\n\u001b[0;32m   (...)\u001b[0m\n\u001b[1;32m     10\u001b[0m \u001b[38;5;124;03m    results : list of end numbers\u001b[39;00m\n\u001b[1;32m     11\u001b[0m \u001b[38;5;124;03m    \"\"\"\u001b[39;00m\n\u001b[0;32m---> 12\u001b[0m     results \u001b[38;5;241m=\u001b[39m [hat(n) \u001b[38;5;28;01mfor\u001b[39;00m i \u001b[38;5;129;01min\u001b[39;00m \u001b[38;5;28mrange\u001b[39m(k\u001b[38;5;241m-\u001b[39m\u001b[38;5;241m1\u001b[39m)]\n\u001b[1;32m     14\u001b[0m     \u001b[38;5;28;01mreturn\u001b[39;00m results\n",
      "Cell \u001b[0;32mIn[9], line 21\u001b[0m, in \u001b[0;36mhat\u001b[0;34m(n)\u001b[0m\n\u001b[1;32m     19\u001b[0m \u001b[38;5;28mlist\u001b[39m\u001b[38;5;241m.\u001b[39mappend(x)\n\u001b[1;32m     20\u001b[0m \u001b[38;5;28mlist\u001b[39m\u001b[38;5;241m.\u001b[39mremove(a)\n\u001b[0;32m---> 21\u001b[0m \u001b[38;5;28mlist\u001b[39m\u001b[38;5;241m.\u001b[39mremove(b)\n\u001b[1;32m     22\u001b[0m count \u001b[38;5;241m=\u001b[39m count \u001b[38;5;241m-\u001b[39m \u001b[38;5;241m1\u001b[39m\n\u001b[1;32m     23\u001b[0m \u001b[38;5;28;01mif\u001b[39;00m count \u001b[38;5;241m==\u001b[39m \u001b[38;5;241m1\u001b[39m:\n",
      "\u001b[0;31mKeyboardInterrupt\u001b[0m: "
     ]
    }
   ],
   "source": [
    "hat2024 = hat_series(2024, int(10e4))"
   ]
  },
  {
   "cell_type": "code",
   "execution_count": 119,
   "id": "299c9ed7-2b65-4ceb-8def-b706e1faa760",
   "metadata": {
    "tags": []
   },
   "outputs": [
    {
     "data": {
      "text/plain": [
       "100000.0"
      ]
     },
     "execution_count": 119,
     "metadata": {},
     "output_type": "execute_result"
    }
   ],
   "source": []
  }
 ],
 "metadata": {
  "kernelspec": {
   "display_name": "Python 3 (ipykernel)",
   "language": "python",
   "name": "python3"
  },
  "language_info": {
   "codemirror_mode": {
    "name": "ipython",
    "version": 3
   },
   "file_extension": ".py",
   "mimetype": "text/x-python",
   "name": "python",
   "nbconvert_exporter": "python",
   "pygments_lexer": "ipython3",
   "version": "3.11.5"
  }
 },
 "nbformat": 4,
 "nbformat_minor": 5
}
