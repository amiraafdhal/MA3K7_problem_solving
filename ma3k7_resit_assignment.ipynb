{
 "cells": [
  {
   "cell_type": "code",
   "execution_count": 1,
   "id": "178ef26b-6ab5-4d31-acef-6c8ad725e600",
   "metadata": {},
   "outputs": [],
   "source": [
    "# import libraries\n",
    "import numpy"
   ]
  },
  {
   "cell_type": "code",
   "execution_count": 31,
   "id": "7026cda1-9317-49b0-8dd1-fd14e1f73eb3",
   "metadata": {},
   "outputs": [],
   "source": [
    "def checkerPandigital(b, n):\n",
    "    \"\"\"\n",
    "checks if the number is a pandigital (here assume restriced and zeroless)\n",
    "parameters:\n",
    "    n: the number to check if pandigital or not\n",
    "    b: pandigital base without 0 (9 gives 1-9)\n",
    "\n",
    "returns:\n",
    "    True: if the number is pandigital with base b\n",
    "    False: Otherwise\n",
    "    \"\"\"\n",
    "    \n",
    "    #make pandigital base set\n",
    "    digits = set([i for i in range(1, b+1)])\n",
    "\n",
    "    #make the number into a set\n",
    "    number = str(n)\n",
    "    number_set = set([int(i) for i in number])\n",
    "\n",
    "    # compare the sets\n",
    "    if digits == number_set:\n",
    "        return True\n",
    "    else:\n",
    "        return False"
   ]
  },
  {
   "cell_type": "code",
   "execution_count": 32,
   "id": "86872636-5003-488e-a843-55c8fbc3d583",
   "metadata": {},
   "outputs": [
    {
     "data": {
      "text/plain": [
       "True"
      ]
     },
     "execution_count": 32,
     "metadata": {},
     "output_type": "execute_result"
    }
   ],
   "source": [
    "checkerPandigital(9, 9876543321)"
   ]
  },
  {
   "cell_type": "code",
   "execution_count": 48,
   "id": "42d75f05-c986-4646-841e-ae6ffbba623e",
   "metadata": {},
   "outputs": [],
   "source": [
    "def generatePermutations(b):\n",
    "    \"\"\"\n",
    "    generates all the permutations of the 1-b pandigital number in lexical order\n",
    "\n",
    "    parameters:\n",
    "        b: base number\n",
    "        \n",
    "    returns:\n",
    "        list of all b! permutations \n",
    "    \"\"\"\n",
    "    digits = [i for i in range(1, b+1)]\n",
    "    result = []\n",
    "    \n",
    "    def backtrack(current, remaining):\n",
    "        if not remaining:\n",
    "            num = int(''.join(map(str, current)))\n",
    "            result.append(num)\n",
    "            return\n",
    "        for i in range(len(remaining)):\n",
    "            current.append(remaining[i])\n",
    "            backtrack(current, remaining[:i] + remaining[i+1:])\n",
    "            current.pop()\n",
    "    \n",
    "    backtrack([], digits)\n",
    "    return result"
   ]
  },
  {
   "cell_type": "code",
   "execution_count": 81,
   "id": "413dadb6-57dd-4c81-ab25-944218008d35",
   "metadata": {},
   "outputs": [
    {
     "data": {
      "text/plain": [
       "[123456789,\n",
       " 123456798,\n",
       " 123456879,\n",
       " 123456897,\n",
       " 123456978,\n",
       " 123456987,\n",
       " 123457689,\n",
       " 123457698,\n",
       " 123457869,\n",
       " 123457896]"
      ]
     },
     "execution_count": 81,
     "metadata": {},
     "output_type": "execute_result"
    }
   ],
   "source": [
    "pandigital9 = generatePermutations(9)\n",
    "pandigital9[:10]"
   ]
  },
  {
   "cell_type": "code",
   "execution_count": 82,
   "id": "a23b894e-c957-4564-924e-c277ba132b73",
   "metadata": {},
   "outputs": [],
   "source": [
    "pandigital9 = pandigital9[::-1]"
   ]
  },
  {
   "cell_type": "code",
   "execution_count": 70,
   "id": "e3afbdc2-01f8-438c-a59a-ee9f0d879c4f",
   "metadata": {},
   "outputs": [],
   "source": [
    "pandigital4 = generatePermutations(4)\n",
    "pandigital4 = pandigital4[::-1]"
   ]
  },
  {
   "cell_type": "code",
   "execution_count": 71,
   "id": "e5625075-5abb-4a2a-a781-b1b879e2e185",
   "metadata": {},
   "outputs": [
    {
     "name": "stdout",
     "output_type": "stream",
     "text": [
      "[4321, 4312, 4231, 4213, 4132, 4123, 3421, 3412, 3241, 3214, 3142, 3124, 2431, 2413, 2341, 2314, 2143, 2134, 1432, 1423, 1342, 1324, 1243, 1234]\n"
     ]
    }
   ],
   "source": [
    "print(pandigital4)"
   ]
  },
  {
   "cell_type": "code",
   "execution_count": 79,
   "id": "e9b9fb4b-afd3-4c74-bfad-f80f4fdceb23",
   "metadata": {},
   "outputs": [],
   "source": [
    "def subtractions(numbers_list):\n",
    "    \"\"\"\n",
    "    Find all unique subtractions where the result is also a pandigital number\n",
    "    \n",
    "    Args:\n",
    "        numbers_list: List of all pandigital numbers in chosen base\n",
    "        \n",
    "    Returns:\n",
    "        List of lists, each containing:\n",
    "        [(minuend, subtrahend), subtraction_result]\n",
    "    \"\"\"\n",
    "    results = []\n",
    "    seen = set()\n",
    "    \n",
    "    numbers_set = set(numbers_list)\n",
    "    \n",
    "    for i, a in enumerate(numbers_list):\n",
    "        for b in numbers_list[i+1:]:  #avoid duplicate pairs by starting from i+1\n",
    "            #a > b to get positive results\n",
    "            if a > b:\n",
    "                diff = a - b\n",
    "                # Check if result is pandigital by comparing to original set\n",
    "                if diff>=numbers_list[-1] and diff in numbers_list:\n",
    "                    # Create unique key for the operation (since a-b and b-a are different)\n",
    "                    key = (a, b)\n",
    "                    if key not in seen:\n",
    "                        seen.add(key)\n",
    "                        results.append([(a, b), diff])\n",
    "    \n",
    "    return results"
   ]
  },
  {
   "cell_type": "code",
   "execution_count": null,
   "id": "a392f98d-1146-4625-89f7-571631a049b0",
   "metadata": {},
   "outputs": [],
   "source": []
  },
  {
   "cell_type": "code",
   "execution_count": null,
   "id": "117086d5-b55e-4561-b665-8bd9a22975e0",
   "metadata": {},
   "outputs": [],
   "source": [
    "subtractions(pandigital9)"
   ]
  },
  {
   "cell_type": "code",
   "execution_count": 40,
   "id": "cc44f053-7b27-4604-9023-e0b7474bd243",
   "metadata": {},
   "outputs": [
    {
     "data": {
      "text/plain": [
       "864197442"
      ]
     },
     "execution_count": 40,
     "metadata": {},
     "output_type": "execute_result"
    }
   ],
   "source": [
    "987654321-123456879"
   ]
  },
  {
   "cell_type": "code",
   "execution_count": null,
   "id": "2cadb5eb-d2c7-4b54-9509-b3a75c94a95b",
   "metadata": {},
   "outputs": [],
   "source": []
  }
 ],
 "metadata": {
  "kernelspec": {
   "display_name": "Python 3 (ipykernel)",
   "language": "python",
   "name": "python3"
  },
  "language_info": {
   "codemirror_mode": {
    "name": "ipython",
    "version": 3
   },
   "file_extension": ".py",
   "mimetype": "text/x-python",
   "name": "python",
   "nbconvert_exporter": "python",
   "pygments_lexer": "ipython3",
   "version": "3.12.2"
  }
 },
 "nbformat": 4,
 "nbformat_minor": 5
}
